{
 "cells": [
  {
   "cell_type": "markdown",
   "metadata": {},
   "source": [
    "Type into your terminal/gitbash the following under the Project3 repo directory: \n",
    "\n",
    "mongoimport --db tornado_data_db --collection tornado_activity --type csv --file Resources/tornado_cleaned.csv --headerline"
   ]
  },
  {
   "cell_type": "code",
   "execution_count": 1,
   "metadata": {},
   "outputs": [],
   "source": [
    "from pymongo import MongoClient"
   ]
  },
  {
   "cell_type": "code",
   "execution_count": 5,
   "metadata": {},
   "outputs": [],
   "source": [
    "# Create an instance of MongoClient\n",
    "mongo = MongoClient(port=27017)"
   ]
  },
  {
   "cell_type": "code",
   "execution_count": 6,
   "metadata": {},
   "outputs": [],
   "source": [
    "# assign the tornado_data_db database to a variable name\n",
    "db = mongo['tornado_data_db']"
   ]
  },
  {
   "cell_type": "code",
   "execution_count": 8,
   "metadata": {},
   "outputs": [],
   "source": [
    "# assign tornado_activity as the ollection name\n",
    "collection = db['tornado_activity']"
   ]
  },
  {
   "cell_type": "code",
   "execution_count": 9,
   "metadata": {},
   "outputs": [
    {
     "name": "stdout",
     "output_type": "stream",
     "text": [
      "['tornado_activity']\n"
     ]
    }
   ],
   "source": [
    "# review the collections in our database\n",
    "print(db.list_collection_names())"
   ]
  },
  {
   "cell_type": "code",
   "execution_count": 10,
   "metadata": {},
   "outputs": [
    {
     "name": "stdout",
     "output_type": "stream",
     "text": [
      "{'_id': ObjectId('66bdea90136ab4dce45b2452'), '': 0, 'Year': 2023, 'Month': 1, 'Day': 2, 'Date': '2023-01-02', 'State': 'AR', 'Magnitude': 1, 'Damages': 25000, 'Starting Lat': 33.2939, 'Starting Long': -92.7057, 'Hour': 11}\n",
      "{'_id': ObjectId('66bdea90136ab4dce45b2453'), '': 3, 'Year': 2023, 'Month': 1, 'Day': 2, 'Date': '2023-01-02', 'State': 'LA', 'Magnitude': 0, 'Damages': 10000, 'Starting Lat': 32.0582, 'Starting Long': -93.2735, 'Hour': 15}\n",
      "{'_id': ObjectId('66bdea90136ab4dce45b2454'), '': 5, 'Year': 2023, 'Month': 1, 'Day': 2, 'Date': '2023-01-02', 'State': 'LA', 'Magnitude': 2, 'Damages': 850000, 'Starting Lat': 32.172, 'Starting Long': -92.7048, 'Hour': 16}\n",
      "{'_id': ObjectId('66bdea90136ab4dce45b2455'), '': 6, 'Year': 2023, 'Month': 1, 'Day': 2, 'Date': '2023-01-02', 'State': 'OK', 'Magnitude': 0, 'Damages': 50000, 'Starting Lat': 36.346, 'Starting Long': -95.298, 'Hour': 17}\n",
      "{'_id': ObjectId('66bdea90136ab4dce45b2456'), '': 7, 'Year': 2023, 'Month': 1, 'Day': 2, 'Date': '2023-01-02', 'State': 'OK', 'Magnitude': 1, 'Damages': 100000, 'Starting Lat': 35.32, 'Starting Long': -95.474, 'Hour': 17}\n"
     ]
    }
   ],
   "source": [
    "for entry in collection.find().limit(5):\n",
    "    print(entry)"
   ]
  },
  {
   "cell_type": "code",
   "execution_count": null,
   "metadata": {},
   "outputs": [],
   "source": []
  }
 ],
 "metadata": {
  "kernelspec": {
   "display_name": "dev",
   "language": "python",
   "name": "python3"
  },
  "language_info": {
   "codemirror_mode": {
    "name": "ipython",
    "version": 3
   },
   "file_extension": ".py",
   "mimetype": "text/x-python",
   "name": "python",
   "nbconvert_exporter": "python",
   "pygments_lexer": "ipython3",
   "version": "3.10.14"
  }
 },
 "nbformat": 4,
 "nbformat_minor": 2
}
